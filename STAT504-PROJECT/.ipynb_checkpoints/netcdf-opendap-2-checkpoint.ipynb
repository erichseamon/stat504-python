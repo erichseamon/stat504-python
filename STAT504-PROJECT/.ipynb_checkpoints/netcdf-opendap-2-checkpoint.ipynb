{
 "cells": [
  {
   "cell_type": "code",
   "execution_count": 1,
   "metadata": {
    "collapsed": true
   },
   "outputs": [],
   "source": [
    "import matplotlib\n",
    "\n",
    "#This script was run using Python 2.7.3, the Enthought distribution (www.enthought.com)\n",
    "#Author: Katherine Hegewisch (khegewisch@uidaho.edu) \n",
    "#Updated: 01/15/2015\n",
    "#=========================================================\n",
    "#            MACAV2METDATA FILE PARAMETERS\n",
    "#=========================================================\n",
    "dirPath='http://inside-dev1.nkn.uidaho.edu:8080/thredds/dodsC/' \n",
    "\n",
    "#=========================================================\n",
    "#            MACA TARGET DATA\n",
    "#=========================================================\n",
    "day=1\n",
    "lat_target=45.0\n",
    "lon_target=-117.0"
   ]
  },
  {
   "cell_type": "code",
   "execution_count": 2,
   "metadata": {
    "collapsed": false
   },
   "outputs": [
    {
     "name": "stdout",
     "output_type": "stream",
     "text": [
      "http://inside-dev1.nkn.uidaho.edu:8080/thredds/dodsC/agg_met_pr_1979_2015_WUSA.nc?lon[0:1:1385],lat[0:1:584],daily_accumulated_precipitation[0:1:0][0:1:0][0:1:0],day[0:1:13019]\n"
     ]
    }
   ],
   "source": [
    "from netCDF4 import Dataset\n",
    "#--------------------------------------------------------\n",
    "#  FILENAME\n",
    "#--------------------------------------------------------\n",
    "fileName='agg_met_pr_1979_2015_WUSA.nc?lon[0:1:1385],lat[0:1:584],daily_accumulated_precipitation[0:1:0][0:1:0][0:1:0],day[0:1:13019]'\n",
    "#--------------------------------------------------------\n",
    "#   FORM FILENAME AND GET HANDLE TO FILE AND DATA\n",
    "#--------------------------------------------------------\n",
    "fullfilename= dirPath+fileName\n",
    "print fullfilename\n"
   ]
  },
  {
   "cell_type": "code",
   "execution_count": 3,
   "metadata": {
    "collapsed": false
   },
   "outputs": [],
   "source": [
    "\n",
    "#=========================================================\n",
    "#             GET DATA HANDLES\n",
    "#=========================================================\n",
    "filehandle=Dataset(fullfilename,'r',format=\"NETCDF4\")\n",
    "lathandle=filehandle.variables['lat']\n",
    "lonhandle=filehandle.variables['lon']\n",
    "timehandle=filehandle.variables['day']\n",
    "datahandle=filehandle.variables['daily_accumulated_precipitation']"
   ]
  },
  {
   "cell_type": "code",
   "execution_count": 4,
   "metadata": {
    "collapsed": false
   },
   "outputs": [],
   "source": [
    "matplotlib.use('Agg')\n",
    "\n",
    "from netCDF4 import Dataset\n",
    "import numpy as np\n",
    "import matplotlib as m\n",
    "import matplotlib.pyplot as plt\n",
    "import matplotlib.patches as patches\n",
    "import matplotlib.path as path\n",
    "\n",
    "\n",
    "\n",
    "\n",
    "\n",
    "#=========================================================\n",
    "#             GET DATA \n",
    "#=========================================================\n",
    "#get data\n",
    "time_num=len(timehandle)\n",
    "timeindex=range(day-1,time_num, 364)  #python starts arrays at 0\n",
    "time=timehandle[timeindex]\n",
    "lat = lathandle[:]\n",
    "lon = lonhandle[:]\n",
    "#=========================================================\n",
    "#find indices of target lat/lon/day\n",
    "lat_index =  np.searchsorted(lat,lat_target,side='left')\n",
    "lon_index =  np.searchsorted(lon,lon_target,side='left')\n",
    "#check final is in right bounds\n",
    "#if(lat[lat_index]>lat_target):\n",
    "#\tif(lat_index!=0):\n",
    "lat_index = lat_index - 1\n",
    "#if(lat[lat_index]<lat_target):\n",
    "#\tif(lat_index!=len(lat)):\n",
    "#\t\tlat_index =lat_index +1\n",
    "#if(lon[lon_index]>lon_target):\n",
    "#\tif(lon_index!=0):\n",
    "lon_index = lon_index - 1\n",
    "#if(lon[lon_index]<lon_target):\n",
    "#\tif(lon_index!=len(lon)):\n",
    "#\t\tlon_index = lon_index + 1\n",
    "lat=lat[lat_index]\n",
    "lon=lon[lon_index]\n",
    "#=========================================================\n",
    "#get data\n",
    "data = datahandle[timeindex,lat_index,lon_index]"
   ]
  },
  {
   "cell_type": "code",
   "execution_count": 9,
   "metadata": {
    "collapsed": false
   },
   "outputs": [],
   "source": [
    "#=========================================================\n",
    "#              MAKE A PLOT\n",
    "#=========================================================\n",
    "yearref=1950\n",
    "years = np.arange(yearref,yearref+len(time))\n",
    "fig = plt.figure()\n",
    "#plt.plot(data)\n",
    "ax = fig.add_subplot(111)\n",
    "ax.set_xlabel(u'Year')\n",
    "ax.set_ylabel(u'daily_accumulated_precipitation')\n",
    "ax.set_title(u'daily_accumulated_precipitation on Day %d ,\\n %4.2f\\u00b0N, -%4.2f\\u00b0W' % (day,lat, abs(lon)))\n",
    "ax.plot_date(x=time,y=data,fmt=\"b-\")\n",
    "#ax.ticklabel_format(style='plain')\n",
    "ax.plot(years,data,'b-')\n",
    "plt.savefig(\"myPythonGraph.png\")\n",
    "plt.show()"
   ]
  }
 ],
 "metadata": {
  "kernelspec": {
   "display_name": "Python 2",
   "language": "python",
   "name": "python2"
  },
  "language_info": {
   "codemirror_mode": {
    "name": "ipython",
    "version": 2
   },
   "file_extension": ".py",
   "mimetype": "text/x-python",
   "name": "python",
   "nbconvert_exporter": "python",
   "pygments_lexer": "ipython2",
   "version": "2.7.10"
  }
 },
 "nbformat": 4,
 "nbformat_minor": 0
}
